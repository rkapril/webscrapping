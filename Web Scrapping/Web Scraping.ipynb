{
 "cells": [
  {
   "cell_type": "code",
   "execution_count": 1,
   "metadata": {},
   "outputs": [],
   "source": [
    "from urllib.request import urlopen as uReq\n",
    "from bs4 import BeautifulSoup as soup"
   ]
  },
  {
   "cell_type": "code",
   "execution_count": 2,
   "metadata": {},
   "outputs": [],
   "source": [
    "my_url = 'http://www.newegg.com/Video-Cards-Video-Devices/Category/ID-38?Tpk=graphics%20card'"
   ]
  },
  {
   "cell_type": "code",
   "execution_count": 3,
   "metadata": {},
   "outputs": [],
   "source": [
    "# opening up connection, grabbing the page\n",
    "uClient = uReq(my_url)\n",
    "page_html = uClient.read()\n",
    "uClient.close()"
   ]
  },
  {
   "cell_type": "code",
   "execution_count": 4,
   "metadata": {},
   "outputs": [],
   "source": [
    "# html parsing\n",
    "page_soup = soup(page_html, \"html.parser\")"
   ]
  },
  {
   "cell_type": "code",
   "execution_count": 5,
   "metadata": {},
   "outputs": [
    {
     "data": {
      "text/plain": [
       "<h1 class=\"page-title-text\">Video Cards &amp; Video Devices</h1>"
      ]
     },
     "execution_count": 5,
     "metadata": {},
     "output_type": "execute_result"
    }
   ],
   "source": [
    "page_soup.h1"
   ]
  },
  {
   "cell_type": "code",
   "execution_count": 6,
   "metadata": {},
   "outputs": [
    {
     "data": {
      "text/plain": [
       "<p class=\"item-promo\"><i class=\"item-promo-icon\"></i>Get Tom Clancy’s Rainbow Six Siege Gold Edition w/ purchase, limited offer</p>"
      ]
     },
     "execution_count": 6,
     "metadata": {},
     "output_type": "execute_result"
    }
   ],
   "source": [
    "page_soup.p"
   ]
  },
  {
   "cell_type": "code",
   "execution_count": 7,
   "metadata": {},
   "outputs": [
    {
     "data": {
      "text/plain": [
       "<span class=\"hid-text\">Search</span>"
      ]
     },
     "execution_count": 7,
     "metadata": {},
     "output_type": "execute_result"
    }
   ],
   "source": [
    "page_soup.body.span"
   ]
  },
  {
   "cell_type": "code",
   "execution_count": 8,
   "metadata": {},
   "outputs": [
    {
     "data": {
      "text/plain": [
       "12"
      ]
     },
     "execution_count": 8,
     "metadata": {},
     "output_type": "execute_result"
    }
   ],
   "source": [
    "# grabs each product\n",
    "containers = page_soup.findAll(\"div\", {\"class\":\"item-container\"})\n",
    "len(containers)"
   ]
  },
  {
   "cell_type": "code",
   "execution_count": 9,
   "metadata": {},
   "outputs": [],
   "source": [
    "container = containers[0]"
   ]
  },
  {
   "cell_type": "code",
   "execution_count": 10,
   "metadata": {},
   "outputs": [
    {
     "data": {
      "text/plain": [
       "<a class=\"item-img\" href=\"https://www.newegg.com/msi-geforce-rtx-2060-rtx-2060-ventus-xs-6g-oc/p/N82E16814137396?Item=N82E16814137396\"><img alt=\"MSI GeForce RTX 2060 DirectX 12 RTX 2060 VENTUS XS 6G OC 6GB 192-Bit GDDR6 PCI Express 3.0 x16 HDCP Ready Video Card\" src=\"https://c1.neweggimages.com/ProductImageCompressAll300/14-137-396-01.jpg\" title=\"MSI GeForce RTX 2060 DirectX 12 RTX 2060 VENTUS XS 6G OC 6GB 192-Bit GDDR6 PCI Express 3.0 x16 HDCP Ready Video Card\"/></a>"
      ]
     },
     "execution_count": 10,
     "metadata": {},
     "output_type": "execute_result"
    }
   ],
   "source": [
    "container.a"
   ]
  },
  {
   "cell_type": "code",
   "execution_count": 11,
   "metadata": {},
   "outputs": [
    {
     "data": {
      "text/plain": [
       "<div class=\"item-info\"><div class=\"item-branding\"><a class=\"item-brand\" href=\"https://www.newegg.com/MSI/BrandStore/ID-1312\"><img alt=\"MSI\" src=\"https://c1.neweggimages.com/Brandimage_70x28/Brand1312.gif\" title=\"MSI\"/></a><a class=\"item-rating\" href=\"https://www.newegg.com/msi-geforce-rtx-2060-rtx-2060-ventus-xs-6g-oc/p/N82E16814137396?IsFeedbackTab=true&amp;Item=N82E16814137396#scrollFullInfo\" title=\"Rating + 4\"><i class=\"rating rating-4\"></i><span class=\"item-rating-num\">(109)</span></a></div><a class=\"item-title\" href=\"https://www.newegg.com/msi-geforce-rtx-2060-rtx-2060-ventus-xs-6g-oc/p/N82E16814137396?Item=N82E16814137396\" title=\"View Details\">MSI GeForce RTX 2060 DirectX 12 RTX 2060 VENTUS XS 6G OC Video Card</a><p class=\"item-promo\"><i class=\"item-promo-icon\"></i>Get Tom Clancy’s Rainbow Six Siege Gold Edition w/ purchase, limited offer</p><ul class=\"item-features\"><li><strong>Max Resolution:</strong> 7680 x 4320</li><li><strong>DisplayPort:</strong> 3 x DisplayPort 1.4</li><li><strong>HDMI:</strong> 1 x HDMI 2.0b</li><li><strong>Card Dimensions (L x H):</strong> 8.07\" x 5.04\"</li><li><strong>Model #: </strong>RTX2060VENTUSXS6OC</li><li><strong>Item #: </strong>N82E16814137396</li><li><strong>Return Policy: </strong><a href=\"https://kb.newegg.com/Article/Index/12/3?id=1167#44\" target=\"_blank\" title=\"Standard Return Policy(New Window)\">Standard Return Policy</a></li></ul></div>"
      ]
     },
     "execution_count": 11,
     "metadata": {},
     "output_type": "execute_result"
    }
   ],
   "source": [
    "container.div"
   ]
  },
  {
   "cell_type": "code",
   "execution_count": 12,
   "metadata": {},
   "outputs": [
    {
     "data": {
      "text/plain": [
       "<a class=\"item-brand\" href=\"https://www.newegg.com/MSI/BrandStore/ID-1312\"><img alt=\"MSI\" src=\"https://c1.neweggimages.com/Brandimage_70x28/Brand1312.gif\" title=\"MSI\"/></a>"
      ]
     },
     "execution_count": 12,
     "metadata": {},
     "output_type": "execute_result"
    }
   ],
   "source": [
    "container.div.div.a"
   ]
  },
  {
   "cell_type": "code",
   "execution_count": 13,
   "metadata": {},
   "outputs": [
    {
     "data": {
      "text/plain": [
       "<img alt=\"MSI\" src=\"https://c1.neweggimages.com/Brandimage_70x28/Brand1312.gif\" title=\"MSI\"/>"
      ]
     },
     "execution_count": 13,
     "metadata": {},
     "output_type": "execute_result"
    }
   ],
   "source": [
    "container.div.div.a.img"
   ]
  },
  {
   "cell_type": "code",
   "execution_count": 14,
   "metadata": {},
   "outputs": [],
   "source": [
    "filename = \"products.csv\"\n",
    "f = open(filename, \"w\")"
   ]
  },
  {
   "cell_type": "code",
   "execution_count": 15,
   "metadata": {},
   "outputs": [
    {
     "data": {
      "text/plain": [
       "30"
      ]
     },
     "execution_count": 15,
     "metadata": {},
     "output_type": "execute_result"
    }
   ],
   "source": [
    "headers = \"brand, product_name, shipping\\n\"\n",
    "f.write(headers)"
   ]
  },
  {
   "cell_type": "code",
   "execution_count": 16,
   "metadata": {},
   "outputs": [
    {
     "name": "stdout",
     "output_type": "stream",
     "text": [
      "brand: MSI\n",
      "product_name: MSI GeForce RTX 2060 DirectX 12 RTX 2060 VENTUS XS 6G OC Video Card\n",
      "shipping: Free Shipping\n",
      "brand: GIGABYTE\n",
      "product_name: GIGABYTE GeForce GTX 1660 OC 6G Graphics Card, 2 x WINDFORCE Fans, 6GB 192-Bit GDDR5, GV-N1660OC-6GD Video Card\n",
      "shipping: Free Shipping\n",
      "brand: ASUS\n",
      "product_name: ASUS ROG Strix Radeon RX 5700 XT ROG-STRIX-RX5700XT-O8G-GAMING Video Card\n",
      "shipping: Free Shipping\n",
      "brand: GIGABYTE\n",
      "product_name: GIGABYTE GeForce GTX 1660 SUPER DirectX 12 GV-N166SGAMING-6GD Video Card\n",
      "shipping: Free Shipping\n",
      "brand: MSI\n",
      "product_name: MSI GeForce GTX 1660 SUPER DirectX 12 GTX 1660 SUPER VENTUS XS OC Video Card\n",
      "shipping: Free Shipping\n",
      "brand: ASUS\n",
      "product_name: ASUS ROG STRIX GeForce RTX 2060 DirectX 12 ROG-STRIX-RTX2060-O6G-EVO-GAMING Video Card\n",
      "shipping: $4.99 Shipping\n",
      "brand: EVGA\n",
      "product_name: EVGA GeForce RTX 2060 KO ULTRA GAMING Video Card, 06G-P4-2068-KR, 6GB GDDR6, Dual Fans, Metal Backplate\n",
      "shipping: $3.99 Shipping\n",
      "brand: ASRock\n",
      "product_name: ASRock Radeon RX 5700 XT DirectX 12 RX 5700 XT TAICHI X 8G OC+ Video Card\n",
      "shipping: $3.99 Shipping\n",
      "brand: EVGA\n",
      "product_name: EVGA GeForce RTX 2070 SUPER XC ULTRA GAMING, 08G-P4-3173-KR\n",
      "shipping: Free Shipping\n",
      "brand: Sapphire Tech\n",
      "product_name: SAPPHIRE PULSE Radeon RX 5600 XT DirectX 12 11296-01-20G Video Card\n",
      "shipping: Free Shipping\n",
      "brand: ASRock\n",
      "product_name: ASRock Phantom Gaming D Radeon RX 5700 XT 8G OC Video Card, RX5700XT PGD 8GO\n",
      "shipping: Free Shipping\n",
      "brand: ASUS\n",
      "product_name: ASUS GeForce GTX 1660 Super Overclocked 6GB Dual-fan EVO Edition Graphics Card (DUAL-GTX1660S-O6G-EVO)\n",
      "shipping: $3.99 Shipping\n"
     ]
    }
   ],
   "source": [
    "for container in containers:\n",
    "    brand = container.div.div.a.img[\"title\"]\n",
    "    title_container = container.findAll(\"a\", {\"class\":\"item-title\"})\n",
    "    product_name = title_container[0].text\n",
    "    shipping_container = container.findAll(\"li\", {\"class\":\"price-ship\"})\n",
    "    shipping = shipping_container[0].text\n",
    "    \n",
    "    print(\"brand: \" + brand)\n",
    "    print(\"product_name: \" + product_name)\n",
    "    print(\"shipping: \" + shipping)\n",
    "    \n",
    "    f.write(brand + \",\" + product_name.replace(\",\", \"|\") + \",\" + shipping + \"\\n\")\n",
    "    \n",
    "f.close()"
   ]
  },
  {
   "cell_type": "code",
   "execution_count": null,
   "metadata": {},
   "outputs": [],
   "source": []
  }
 ],
 "metadata": {
  "kernelspec": {
   "display_name": "Python 3",
   "language": "python",
   "name": "python3"
  },
  "language_info": {
   "codemirror_mode": {
    "name": "ipython",
    "version": 3
   },
   "file_extension": ".py",
   "mimetype": "text/x-python",
   "name": "python",
   "nbconvert_exporter": "python",
   "pygments_lexer": "ipython3",
   "version": "3.7.7"
  }
 },
 "nbformat": 4,
 "nbformat_minor": 4
}
